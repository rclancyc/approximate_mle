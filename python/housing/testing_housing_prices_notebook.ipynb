{
 "cells": [
  {
   "cell_type": "code",
   "execution_count": 1,
   "id": "96d28457",
   "metadata": {},
   "outputs": [],
   "source": [
    "import os, sys\n",
    "\n",
    "sys.path.append('/Users/clancy/repos/approximate_mle/python')\n",
    "sys.path.append('/Users/clancy/repos/approximate_mle/')\n",
    "\n",
    "\n",
    "import numpy as np\n",
    "import pandas as pd\n",
    "from  loglikelihood import loglikelihood\n",
    "import matplotlib.pyplot as plt\n",
    "from scipy import optimize"
   ]
  },
  {
   "cell_type": "code",
   "execution_count": 2,
   "id": "cd907c34",
   "metadata": {},
   "outputs": [],
   "source": [
    "# total least squares for call for\n",
    "\n",
    "def TLS(A,b):\n",
    "    m, n = A.shape\n",
    "    C = np.hstack((A,b.reshape(m,1)))\n",
    "    \n",
    "    # unlike matlab, numpy returns V.T\n",
    "    _, _, Vt = np.linalg.svd(C)\n",
    "\n",
    "    # take last row (smallest singular vector)\n",
    "    v = Vt[-1,:]\n",
    "    x_tls = -(1/v[-1])*v[:-1]\n",
    "\n",
    "    return x_tls"
   ]
  },
  {
   "cell_type": "code",
   "execution_count": 3,
   "id": "79150d5b",
   "metadata": {},
   "outputs": [],
   "source": [
    "df = pd.read_csv('house-prices-advanced-regression-techniques/train.csv')\n",
    "\n",
    "myidx = df['MSZoning'] == 'RL'\n",
    "df = df.loc[myidx,:]\n",
    "\n",
    "myidx = df.LotArea < df.LotArea.quantile(0.99) \n",
    "df = df.loc[myidx,:]\n",
    "myidx = df.GrLivArea < df.GrLivArea.quantile(0.99) \n",
    "df = df.loc[myidx,:]\n",
    "myidx = df.SalePrice < df.SalePrice.quantile(0.99)\n",
    "df = df.loc[myidx,:]\n"
   ]
  },
  {
   "cell_type": "code",
   "execution_count": 4,
   "id": "d057dad4",
   "metadata": {},
   "outputs": [],
   "source": [
    "tb = df.loc[:, ['LotFrontage', 'LotArea', 'OverallQual', 'OverallCond', 'YearBuilt', 'GrLivArea', 'SalePrice']]\n",
    "\n",
    "\n",
    "myidx =  df.LotArea < df.LotArea.quantile(0.99) \n"
   ]
  },
  {
   "cell_type": "code",
   "execution_count": 5,
   "id": "ade5aae8",
   "metadata": {},
   "outputs": [
    {
     "data": {
      "text/html": [
       "<div>\n",
       "<style scoped>\n",
       "    .dataframe tbody tr th:only-of-type {\n",
       "        vertical-align: middle;\n",
       "    }\n",
       "\n",
       "    .dataframe tbody tr th {\n",
       "        vertical-align: top;\n",
       "    }\n",
       "\n",
       "    .dataframe thead th {\n",
       "        text-align: right;\n",
       "    }\n",
       "</style>\n",
       "<table border=\"1\" class=\"dataframe\">\n",
       "  <thead>\n",
       "    <tr style=\"text-align: right;\">\n",
       "      <th></th>\n",
       "      <th>LotFrontage</th>\n",
       "      <th>LotArea</th>\n",
       "      <th>OverallQual</th>\n",
       "      <th>OverallCond</th>\n",
       "      <th>YearBuilt</th>\n",
       "      <th>GrLivArea</th>\n",
       "      <th>SalePrice</th>\n",
       "    </tr>\n",
       "  </thead>\n",
       "  <tbody>\n",
       "    <tr>\n",
       "      <th>0</th>\n",
       "      <td>65.0</td>\n",
       "      <td>8450</td>\n",
       "      <td>7</td>\n",
       "      <td>5</td>\n",
       "      <td>2003</td>\n",
       "      <td>1710</td>\n",
       "      <td>208500</td>\n",
       "    </tr>\n",
       "    <tr>\n",
       "      <th>1</th>\n",
       "      <td>80.0</td>\n",
       "      <td>9600</td>\n",
       "      <td>6</td>\n",
       "      <td>8</td>\n",
       "      <td>1976</td>\n",
       "      <td>1262</td>\n",
       "      <td>181500</td>\n",
       "    </tr>\n",
       "    <tr>\n",
       "      <th>2</th>\n",
       "      <td>68.0</td>\n",
       "      <td>11250</td>\n",
       "      <td>7</td>\n",
       "      <td>5</td>\n",
       "      <td>2001</td>\n",
       "      <td>1786</td>\n",
       "      <td>223500</td>\n",
       "    </tr>\n",
       "    <tr>\n",
       "      <th>3</th>\n",
       "      <td>60.0</td>\n",
       "      <td>9550</td>\n",
       "      <td>7</td>\n",
       "      <td>5</td>\n",
       "      <td>1915</td>\n",
       "      <td>1717</td>\n",
       "      <td>140000</td>\n",
       "    </tr>\n",
       "    <tr>\n",
       "      <th>4</th>\n",
       "      <td>84.0</td>\n",
       "      <td>14260</td>\n",
       "      <td>8</td>\n",
       "      <td>5</td>\n",
       "      <td>2000</td>\n",
       "      <td>2198</td>\n",
       "      <td>250000</td>\n",
       "    </tr>\n",
       "    <tr>\n",
       "      <th>...</th>\n",
       "      <td>...</td>\n",
       "      <td>...</td>\n",
       "      <td>...</td>\n",
       "      <td>...</td>\n",
       "      <td>...</td>\n",
       "      <td>...</td>\n",
       "      <td>...</td>\n",
       "    </tr>\n",
       "    <tr>\n",
       "      <th>1455</th>\n",
       "      <td>62.0</td>\n",
       "      <td>7917</td>\n",
       "      <td>6</td>\n",
       "      <td>5</td>\n",
       "      <td>1999</td>\n",
       "      <td>1647</td>\n",
       "      <td>175000</td>\n",
       "    </tr>\n",
       "    <tr>\n",
       "      <th>1456</th>\n",
       "      <td>85.0</td>\n",
       "      <td>13175</td>\n",
       "      <td>6</td>\n",
       "      <td>6</td>\n",
       "      <td>1978</td>\n",
       "      <td>2073</td>\n",
       "      <td>210000</td>\n",
       "    </tr>\n",
       "    <tr>\n",
       "      <th>1457</th>\n",
       "      <td>66.0</td>\n",
       "      <td>9042</td>\n",
       "      <td>7</td>\n",
       "      <td>9</td>\n",
       "      <td>1941</td>\n",
       "      <td>2340</td>\n",
       "      <td>266500</td>\n",
       "    </tr>\n",
       "    <tr>\n",
       "      <th>1458</th>\n",
       "      <td>68.0</td>\n",
       "      <td>9717</td>\n",
       "      <td>5</td>\n",
       "      <td>6</td>\n",
       "      <td>1950</td>\n",
       "      <td>1078</td>\n",
       "      <td>142125</td>\n",
       "    </tr>\n",
       "    <tr>\n",
       "      <th>1459</th>\n",
       "      <td>75.0</td>\n",
       "      <td>9937</td>\n",
       "      <td>5</td>\n",
       "      <td>6</td>\n",
       "      <td>1965</td>\n",
       "      <td>1256</td>\n",
       "      <td>147500</td>\n",
       "    </tr>\n",
       "  </tbody>\n",
       "</table>\n",
       "<p>895 rows × 7 columns</p>\n",
       "</div>"
      ],
      "text/plain": [
       "      LotFrontage  LotArea  OverallQual  OverallCond  YearBuilt  GrLivArea  \\\n",
       "0            65.0     8450            7            5       2003       1710   \n",
       "1            80.0     9600            6            8       1976       1262   \n",
       "2            68.0    11250            7            5       2001       1786   \n",
       "3            60.0     9550            7            5       1915       1717   \n",
       "4            84.0    14260            8            5       2000       2198   \n",
       "...           ...      ...          ...          ...        ...        ...   \n",
       "1455         62.0     7917            6            5       1999       1647   \n",
       "1456         85.0    13175            6            6       1978       2073   \n",
       "1457         66.0     9042            7            9       1941       2340   \n",
       "1458         68.0     9717            5            6       1950       1078   \n",
       "1459         75.0     9937            5            6       1965       1256   \n",
       "\n",
       "      SalePrice  \n",
       "0        208500  \n",
       "1        181500  \n",
       "2        223500  \n",
       "3        140000  \n",
       "4        250000  \n",
       "...         ...  \n",
       "1455     175000  \n",
       "1456     210000  \n",
       "1457     266500  \n",
       "1458     142125  \n",
       "1459     147500  \n",
       "\n",
       "[895 rows x 7 columns]"
      ]
     },
     "execution_count": 5,
     "metadata": {},
     "output_type": "execute_result"
    }
   ],
   "source": [
    "tb.dropna(axis=0,how='any', inplace=True)\n",
    "tb"
   ]
  },
  {
   "cell_type": "code",
   "execution_count": 6,
   "id": "dd7ea8c9",
   "metadata": {},
   "outputs": [],
   "source": [
    "TB = np.asarray(tb)"
   ]
  },
  {
   "cell_type": "code",
   "execution_count": 7,
   "id": "ced5b241",
   "metadata": {},
   "outputs": [
    {
     "data": {
      "text/html": [
       "<div>\n",
       "<style scoped>\n",
       "    .dataframe tbody tr th:only-of-type {\n",
       "        vertical-align: middle;\n",
       "    }\n",
       "\n",
       "    .dataframe tbody tr th {\n",
       "        vertical-align: top;\n",
       "    }\n",
       "\n",
       "    .dataframe thead th {\n",
       "        text-align: right;\n",
       "    }\n",
       "</style>\n",
       "<table border=\"1\" class=\"dataframe\">\n",
       "  <thead>\n",
       "    <tr style=\"text-align: right;\">\n",
       "      <th></th>\n",
       "      <th>LotFrontage</th>\n",
       "      <th>LotArea</th>\n",
       "      <th>OverallQual</th>\n",
       "      <th>OverallCond</th>\n",
       "      <th>YearBuilt</th>\n",
       "      <th>GrLivArea</th>\n",
       "      <th>SalePrice</th>\n",
       "    </tr>\n",
       "  </thead>\n",
       "  <tbody>\n",
       "    <tr>\n",
       "      <th>0</th>\n",
       "      <td>65.0</td>\n",
       "      <td>8450</td>\n",
       "      <td>7</td>\n",
       "      <td>5</td>\n",
       "      <td>2003</td>\n",
       "      <td>1710</td>\n",
       "      <td>208500</td>\n",
       "    </tr>\n",
       "    <tr>\n",
       "      <th>1</th>\n",
       "      <td>80.0</td>\n",
       "      <td>9600</td>\n",
       "      <td>6</td>\n",
       "      <td>8</td>\n",
       "      <td>1976</td>\n",
       "      <td>1262</td>\n",
       "      <td>181500</td>\n",
       "    </tr>\n",
       "    <tr>\n",
       "      <th>2</th>\n",
       "      <td>68.0</td>\n",
       "      <td>11250</td>\n",
       "      <td>7</td>\n",
       "      <td>5</td>\n",
       "      <td>2001</td>\n",
       "      <td>1786</td>\n",
       "      <td>223500</td>\n",
       "    </tr>\n",
       "    <tr>\n",
       "      <th>3</th>\n",
       "      <td>60.0</td>\n",
       "      <td>9550</td>\n",
       "      <td>7</td>\n",
       "      <td>5</td>\n",
       "      <td>1915</td>\n",
       "      <td>1717</td>\n",
       "      <td>140000</td>\n",
       "    </tr>\n",
       "    <tr>\n",
       "      <th>4</th>\n",
       "      <td>84.0</td>\n",
       "      <td>14260</td>\n",
       "      <td>8</td>\n",
       "      <td>5</td>\n",
       "      <td>2000</td>\n",
       "      <td>2198</td>\n",
       "      <td>250000</td>\n",
       "    </tr>\n",
       "    <tr>\n",
       "      <th>...</th>\n",
       "      <td>...</td>\n",
       "      <td>...</td>\n",
       "      <td>...</td>\n",
       "      <td>...</td>\n",
       "      <td>...</td>\n",
       "      <td>...</td>\n",
       "      <td>...</td>\n",
       "    </tr>\n",
       "    <tr>\n",
       "      <th>1455</th>\n",
       "      <td>62.0</td>\n",
       "      <td>7917</td>\n",
       "      <td>6</td>\n",
       "      <td>5</td>\n",
       "      <td>1999</td>\n",
       "      <td>1647</td>\n",
       "      <td>175000</td>\n",
       "    </tr>\n",
       "    <tr>\n",
       "      <th>1456</th>\n",
       "      <td>85.0</td>\n",
       "      <td>13175</td>\n",
       "      <td>6</td>\n",
       "      <td>6</td>\n",
       "      <td>1978</td>\n",
       "      <td>2073</td>\n",
       "      <td>210000</td>\n",
       "    </tr>\n",
       "    <tr>\n",
       "      <th>1457</th>\n",
       "      <td>66.0</td>\n",
       "      <td>9042</td>\n",
       "      <td>7</td>\n",
       "      <td>9</td>\n",
       "      <td>1941</td>\n",
       "      <td>2340</td>\n",
       "      <td>266500</td>\n",
       "    </tr>\n",
       "    <tr>\n",
       "      <th>1458</th>\n",
       "      <td>68.0</td>\n",
       "      <td>9717</td>\n",
       "      <td>5</td>\n",
       "      <td>6</td>\n",
       "      <td>1950</td>\n",
       "      <td>1078</td>\n",
       "      <td>142125</td>\n",
       "    </tr>\n",
       "    <tr>\n",
       "      <th>1459</th>\n",
       "      <td>75.0</td>\n",
       "      <td>9937</td>\n",
       "      <td>5</td>\n",
       "      <td>6</td>\n",
       "      <td>1965</td>\n",
       "      <td>1256</td>\n",
       "      <td>147500</td>\n",
       "    </tr>\n",
       "  </tbody>\n",
       "</table>\n",
       "<p>895 rows × 7 columns</p>\n",
       "</div>"
      ],
      "text/plain": [
       "      LotFrontage  LotArea  OverallQual  OverallCond  YearBuilt  GrLivArea  \\\n",
       "0            65.0     8450            7            5       2003       1710   \n",
       "1            80.0     9600            6            8       1976       1262   \n",
       "2            68.0    11250            7            5       2001       1786   \n",
       "3            60.0     9550            7            5       1915       1717   \n",
       "4            84.0    14260            8            5       2000       2198   \n",
       "...           ...      ...          ...          ...        ...        ...   \n",
       "1455         62.0     7917            6            5       1999       1647   \n",
       "1456         85.0    13175            6            6       1978       2073   \n",
       "1457         66.0     9042            7            9       1941       2340   \n",
       "1458         68.0     9717            5            6       1950       1078   \n",
       "1459         75.0     9937            5            6       1965       1256   \n",
       "\n",
       "      SalePrice  \n",
       "0        208500  \n",
       "1        181500  \n",
       "2        223500  \n",
       "3        140000  \n",
       "4        250000  \n",
       "...         ...  \n",
       "1455     175000  \n",
       "1456     210000  \n",
       "1457     266500  \n",
       "1458     142125  \n",
       "1459     147500  \n",
       "\n",
       "[895 rows x 7 columns]"
      ]
     },
     "execution_count": 7,
     "metadata": {},
     "output_type": "execute_result"
    }
   ],
   "source": [
    "tb"
   ]
  },
  {
   "cell_type": "markdown",
   "id": "1e4ffc2d",
   "metadata": {},
   "source": [
    "We have selected a subset of data that we want to use to fit a model with. These fields are as follows: LotFrontage, LotArea, OverallQual, OverallCond, YearBuilt, GrLivArea, and SalePrice. \n",
    "\n",
    "Drawing special attention to quality, condition, and year built, we note that the reported values are necessarily subjective. Why you might ask, this is because we are not given a date which the property was completed. As such, we know that the true data was taken somewhere from January to December of the listed year. Hence, the true year built data should be the listed year plus a number drawn from Uniform(0,1), i.e.,for a year of 2010, the true completion date is year $\\in [2010, 2011)$.\n",
    "\n",
    "For overall quality and condition, this is subjective in nature and there will be some uncertainty. This is the target setup for our method. We don't need to specify true values, we just allow values to be taken over and uncertainty set.\n",
    "\n",
    "0. LotFrontage: Restrict to tens value (uncertainty is Uniform(-5, 5)) \n",
    "1. LotArea: Restrict to hundreds (uncertainty is Uniform(-50, 50)) \n",
    "2. OverallQual: No change...our model allows for this uncertainty (uncertainty is Uniform(-0.5, 0.5)) \n",
    "3. OverallCond: No change...our model allows for this uncertainty (uncertainty is Uniform(-0.5, 0.5)) \n",
    "4. YearBuilt: Add 0.5 to all entries to make it middle of range (uncertainty is Uniform(-0.5, 0.5) not Uniform(0, 1))  \n",
    "5. GrLivArea: Restrict to hundreds (uncertainty is Uniform(-50, 50)) \n",
    "6. SalePrice: Response variable. Determine the variance from the model values and use that for $\\sigma^2$\n",
    "\n",
    "\n",
    "There is no such thing as the true matrix at this point, there is just the observed matrix which we suppose is subject to noise. A few columns are in themselves uncertain, several others are not. \n"
   ]
  },
  {
   "cell_type": "code",
   "execution_count": 8,
   "id": "c2b2dd59",
   "metadata": {},
   "outputs": [],
   "source": [
    "A = TB[:,0:6]\n",
    "b = TB[:,-1]\n",
    "b = b - np.mean(b)\n",
    "Aobs = TB[:,0:6]\n",
    "Aobs[:,0] = np.round(Aobs[:,0], -1)\n",
    "Aobs[:,1] = np.round(Aobs[:,1], -2)\n",
    "Aobs[:,4] = Aobs[:,4] + 0.5\n",
    "Aobs[:,5] = np.round(Aobs[:,5], -2)\n",
    "\n",
    "Aobs = Aobs - np.mean(Aobs, axis=0)\n",
    "\n",
    "\n",
    "A = np.hstack((np.ones((b.shape[0],1)),A))\n",
    "Aobs = np.hstack((np.ones((b.shape[0],1)),Aobs))\n",
    "\n",
    "Aobs_orig = Aobs\n",
    "\n",
    "#Aobs = np.delete(Aobs, 4, 1)\n",
    "\n",
    "dists = ['constant', 'uniform', 'uniform', 'uniform', 'uniform', 'uniform', 'uniform', 'normal']\n",
    "params = [None, [5], [50], [0.5], [0.5], [1], [50], [950000000]]\n",
    "\n",
    "#dists = ['constant', 'uniform', 'uniform', 'uniform', 'uniform', 'uniform', 'normal']\n",
    "#params = [None, [5], [50], [0.5], [1], [50], [900000000]]\n"
   ]
  },
  {
   "cell_type": "code",
   "execution_count": 9,
   "id": "1e994f6d",
   "metadata": {},
   "outputs": [
    {
     "name": "stdout",
     "output_type": "stream",
     "text": [
      "(895, 7)\n",
      "(895, 7)\n"
     ]
    }
   ],
   "source": [
    "print(Aobs.shape)\n",
    "print(Aobs_orig.shape)"
   ]
  },
  {
   "cell_type": "code",
   "execution_count": 10,
   "id": "72de6c69",
   "metadata": {},
   "outputs": [],
   "source": [
    "ret = np.linalg.lstsq(A, b, rcond=1e-12)\n",
    "beta = ret[0]"
   ]
  },
  {
   "cell_type": "code",
   "execution_count": 11,
   "id": "8cd6bd2c",
   "metadata": {},
   "outputs": [
    {
     "data": {
      "image/png": "[encoded data removed]",
      "text/plain": [
       "<Figure size 864x864 with 7 Axes>"
      ]
     },
     "metadata": {
      "needs_background": "light"
     },
     "output_type": "display_data"
    }
   ],
   "source": [
    "plt.figure(figsize=(12,12))\n",
    "cols = list(tb.columns)\n",
    "cols.insert(0,'ones')\n",
    "\n",
    "temp = np.linalg.lstsq(A, b, rcond=1e-12)\n",
    "beta = temp[0]\n",
    "\n",
    "\n",
    "\n",
    "for i, x in enumerate(Aobs.T):\n",
    "    plt.subplot(3,3,i+1)\n",
    "    plt.title(cols[i])\n",
    "    plt.scatter(x,b)\n",
    "    plt.grid()\n",
    "    \n",
    "plt.show()\n"
   ]
  },
  {
   "cell_type": "code",
   "execution_count": 12,
   "id": "6b2fe2a7",
   "metadata": {},
   "outputs": [
    {
     "data": {
      "image/png": "[encoded data removed]",
      "text/plain": [
       "<Figure size 864x864 with 7 Axes>"
      ]
     },
     "metadata": {
      "needs_background": "light"
     },
     "output_type": "display_data"
    }
   ],
   "source": [
    "plt.figure(figsize=(12,12))\n",
    "idx = np.random.permutation(b.shape[0])[0:8]\n",
    "\n",
    "Atemp = Aobs[idx,:]\n",
    "btemp = b[idx]\n",
    "\n",
    "\n",
    "\n",
    "for i, x in enumerate(Aobs[idx,:].T):\n",
    "    plt.subplot(3,3,i+1)\n",
    "    plt.title(cols[i])\n",
    "    plt.scatter(x,b[idx])\n",
    "    plt.grid()\n",
    "    \n",
    "plt.show()"
   ]
  },
  {
   "cell_type": "markdown",
   "id": "ce922d33",
   "metadata": {},
   "source": [
    "Now for this part of the experiment, we want to try fitting a model using a subset of the data using our regression method and comparing it to total least squares, linear least squares, and the exact MLE using Gaussian noise. \n",
    "\n",
    "I outline how this will be done in the following several lines. \n",
    "\n",
    "1. Start by taking `Aobs` and `b`\n",
    "2. Solve OLS problem by using `np.linalg.lstsq(Aobs, b)`\n",
    "3. Solve TLS problem by using a function call I might still need to write\n",
    "4. Solve AMLE Problem in the following stages\n",
    "    - call `llh.func_and_grad` with arguments `H, y, distributions, parameters`\n",
    "    - `H = Aobs` and `y = b`\n",
    "    - Distributions are `[constant, uniform, uniform, uniform, uniform, uniform, uniform, normal]` \n",
    "    - Parameters are [None, 5, 50, 0.5, 0.5, 1, 50, 30800]"
   ]
  },
  {
   "cell_type": "code",
   "execution_count": 13,
   "id": "02ee38aa",
   "metadata": {},
   "outputs": [
    {
     "data": {
      "text/plain": [
       "(8, 7)"
      ]
     },
     "execution_count": 13,
     "metadata": {},
     "output_type": "execute_result"
    }
   ],
   "source": [
    "Atemp.shape"
   ]
  },
  {
   "cell_type": "code",
   "execution_count": 14,
   "id": "e3c75815",
   "metadata": {},
   "outputs": [],
   "source": [
    "xols = np.linalg.lstsq(Atemp, btemp, rcond=1e-12)[0]\n",
    "\n",
    "xtls =  TLS(Atemp, btemp)# Write simple code that finds total least square solution\n"
   ]
  },
  {
   "cell_type": "code",
   "execution_count": 15,
   "id": "8421b885",
   "metadata": {},
   "outputs": [
    {
     "name": "stderr",
     "output_type": "stream",
     "text": [
      "/var/folders/93/rs3bwg315nl_l8vgz1bsklv40000gn/T/ipykernel_55233/2917015157.py:13: OptimizeWarning: Unknown solver options: ftol\n",
      "  results = optimize.minimize(neg_ll, x0, method='BFGS', jac=True, options={'disp':True, 'ftol':1e-12})\n",
      "/Users/clancy/repos/approximate_mle/python/loglikelihood.py:166: RuntimeWarning: overflow encountered in sinh\n",
      "  K = h*t*x + np.log(np.sinh(k*t)/(k*t))\n",
      "/Users/clancy/repos/approximate_mle/python/loglikelihood.py:168: RuntimeWarning: overflow encountered in sinh\n",
      "  Kpp = 1/t**2 - (k/np.sinh(k*t))**2\n",
      "/Users/clancy/repos/approximate_mle/python/loglikelihood.py:169: RuntimeWarning: overflow encountered in sinh\n",
      "  Kppp = -2/t**3 + 2*(k**3)/(np.tanh(k*t)*np.sinh(k*t)**2)\n",
      "/Users/clancy/repos/approximate_mle/python/loglikelihood.py:172: RuntimeWarning: overflow encountered in sinh\n",
      "  dKp_dx = h + delta/np.tanh(k*t) - (t*x*(delta**2))/(np.sinh(k*t)**2)\n",
      "/Users/clancy/repos/approximate_mle/python/loglikelihood.py:173: RuntimeWarning: overflow encountered in sinh\n",
      "  dKpp_dx = 2*t*(x**2)*(delta**3)/((np.sinh(k*t)**2)*np.tanh(k*t)) - 2*x*(delta**2)/(np.sinh(k*t)**2)\n",
      "/Users/clancy/repos/approximate_mle/python/loglikelihood.py:169: RuntimeWarning: overflow encountered in double_scalars\n",
      "  Kppp = -2/t**3 + 2*(k**3)/(np.tanh(k*t)*np.sinh(k*t)**2)\n",
      "/Users/clancy/repos/approximate_mle/python/loglikelihood.py:172: RuntimeWarning: overflow encountered in double_scalars\n",
      "  dKp_dx = h + delta/np.tanh(k*t) - (t*x*(delta**2))/(np.sinh(k*t)**2)\n",
      "/Users/clancy/repos/approximate_mle/python/loglikelihood.py:173: RuntimeWarning: overflow encountered in double_scalars\n",
      "  dKpp_dx = 2*t*(x**2)*(delta**3)/((np.sinh(k*t)**2)*np.tanh(k*t)) - 2*x*(delta**2)/(np.sinh(k*t)**2)\n"
     ]
    },
    {
     "name": "stdout",
     "output_type": "stream",
     "text": [
      "Optimization terminated successfully.\n",
      "         Current function value: 83.215351\n",
      "         Iterations: 136\n",
      "         Function evaluations: 139\n",
      "         Gradient evaluations: 139\n"
     ]
    }
   ],
   "source": [
    "\n",
    "\n",
    "\n",
    "\n",
    "#949060285\n",
    "#dists = ['uniform', 'uniform', 'uniform', 'uniform', 'uniform', 'uniform', 'normal']\n",
    "#params = [[5], [50], [0.5], [0.5], [1], [50], [949060285]]\n",
    "\n",
    "\n",
    "\n",
    "lf = loglikelihood(Atemp, btemp, dists, params)\n",
    "\n",
    "# define an anonymous function\n",
    "neg_ll = lambda z: lf.negative_loglikelihood(z)\n",
    "x0 = np.zeros(xols.shape)\n",
    "#x0 = np.random.randn(xols.shape[0])\n",
    "results = optimize.minimize(neg_ll, x0, method='BFGS', jac=True, options={'disp':True, 'ftol':1e-12})\n",
    "xmle = results.x"
   ]
  },
  {
   "cell_type": "code",
   "execution_count": 16,
   "id": "ecde37d2",
   "metadata": {},
   "outputs": [
    {
     "data": {
      "text/plain": [
       "array([ 1.64415899e+04,  1.43581549e+03, -4.47489276e-03,  3.39733143e+04,\n",
       "        3.23175198e+04,  8.81474727e+02,  5.08186190e+01])"
      ]
     },
     "execution_count": 16,
     "metadata": {},
     "output_type": "execute_result"
    }
   ],
   "source": [
    "xols"
   ]
  },
  {
   "cell_type": "code",
   "execution_count": 17,
   "id": "a3d9315c",
   "metadata": {},
   "outputs": [
    {
     "data": {
      "text/plain": [
       "array([ 5.02766076e+03,  9.39422754e+02, -2.43266816e+00,  2.18308353e+04,\n",
       "        2.07133837e+04,  6.51144235e+02,  8.60130336e+01])"
      ]
     },
     "execution_count": 17,
     "metadata": {},
     "output_type": "execute_result"
    }
   ],
   "source": [
    "results.x"
   ]
  },
  {
   "cell_type": "code",
   "execution_count": 18,
   "id": "9ab83cd8",
   "metadata": {},
   "outputs": [
    {
     "name": "stdout",
     "output_type": "stream",
     "text": [
      "OLS error 1572215.5798395232\n",
      "TLS error 1583093.0162281434\n",
      "MLE error 1195246.5167746167\n"
     ]
    }
   ],
   "source": [
    "yols = Aobs@xols\n",
    "ytls = Aobs@xtls\n",
    "ymle = Aobs@xmle\n",
    "\n",
    "print('OLS error', np.linalg.norm(yols -b))\n",
    "print('TLS error', np.linalg.norm(ytls -b))\n",
    "print('MLE error', np.linalg.norm(ymle -b))"
   ]
  },
  {
   "cell_type": "code",
   "execution_count": 19,
   "id": "82df84df",
   "metadata": {},
   "outputs": [
    {
     "name": "stdout",
     "output_type": "stream",
     "text": [
      "OLS error 4061.125233828605\n",
      "TLS error 4077.176881789233\n",
      "MLE error 18741.399638739476\n"
     ]
    }
   ],
   "source": [
    "\n",
    "\n",
    "yols = Atemp@xols\n",
    "ytls = Atemp@xtls\n",
    "ymle = Atemp@xmle\n",
    "\n",
    "print('OLS error', np.linalg.norm(yols -btemp))\n",
    "print('TLS error', np.linalg.norm(ytls -btemp))\n",
    "print('MLE error', np.linalg.norm(ymle -btemp))"
   ]
  },
  {
   "cell_type": "code",
   "execution_count": 20,
   "id": "b3342e8f",
   "metadata": {},
   "outputs": [],
   "source": [
    "B = Aobs\n",
    "\n",
    "B = B - np.mean(B, axis=0)"
   ]
  },
  {
   "cell_type": "code",
   "execution_count": null,
   "id": "14d48cf3",
   "metadata": {},
   "outputs": [],
   "source": []
  }
 ],
 "metadata": {
  "kernelspec": {
   "display_name": "Python 3 (ipykernel)",
   "language": "python",
   "name": "python3"
  },
  "language_info": {
   "codemirror_mode": {
    "name": "ipython",
    "version": 3
   },
   "file_extension": ".py",
   "mimetype": "text/x-python",
   "name": "python",
   "nbconvert_exporter": "python",
   "pygments_lexer": "ipython3",
   "version": "3.8.10"
  }
 },
 "nbformat": 4,
 "nbformat_minor": 5
}
